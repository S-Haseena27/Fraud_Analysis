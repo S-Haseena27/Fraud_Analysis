{
 "cells": [
  {
   "cell_type": "code",
   "execution_count": null,
   "id": "aa81e781",
   "metadata": {},
   "outputs": [],
   "source": []
  },
  {
   "cell_type": "code",
   "execution_count": 3,
   "id": "cc20f12b",
   "metadata": {},
   "outputs": [],
   "source": [
    "import pandas as pd\n",
    "import numpy as np\n",
    "import matplotlib.pyplot as plt \n",
    "import sklearn\n",
    "import seaborn as sns\n",
    "\n",
    "\n",
    "class Data:\n",
    "\n",
    "    def reading_data(dataset_path):\n",
    "        self.df=pd.read_csv(dataset_path)\n",
    "        \n",
    "    def data_information():\n",
    "        print(self.df.head(10),\"\\n\")\n",
    "        print()\n",
    "        print(f\" info of dataset is : {self.df.info()} \")\n",
    "        print()\n",
    "        print(f\" shape of dataset is : {self.df.shape}\" )\n",
    "        print()\n",
    "\n"
   ]
  },
  {
   "cell_type": "code",
   "execution_count": null,
   "id": "83dbd3fa",
   "metadata": {},
   "outputs": [],
   "source": []
  }
 ],
 "metadata": {
  "kernelspec": {
   "display_name": "Python 3 (ipykernel)",
   "language": "python",
   "name": "python3"
  },
  "language_info": {
   "codemirror_mode": {
    "name": "ipython",
    "version": 3
   },
   "file_extension": ".py",
   "mimetype": "text/x-python",
   "name": "python",
   "nbconvert_exporter": "python",
   "pygments_lexer": "ipython3",
   "version": "3.10.13"
  }
 },
 "nbformat": 4,
 "nbformat_minor": 5
}
